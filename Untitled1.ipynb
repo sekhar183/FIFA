{
 "cells": [
  {
   "cell_type": "code",
   "execution_count": 135,
   "id": "4f40c067",
   "metadata": {},
   "outputs": [],
   "source": [
    "from bs4 import BeautifulSoup\n",
    "import requests\n",
    "import pandas as pd\n",
    "from tqdm import tqdm\n",
    "import numpy as np\n",
    "import time\n",
    "from selenium import webdriver\n",
    "import time\n",
    "from tqdm import tqdm"
   ]
  },
  {
   "cell_type": "code",
   "execution_count": 136,
   "id": "38fc1aa9",
   "metadata": {},
   "outputs": [],
   "source": [
    "DATA = pd.read_excel('Cleaned_FIFA_players.xlsx', engine='openpyxl')"
   ]
  },
  {
   "cell_type": "code",
   "execution_count": 137,
   "id": "f4f030d9",
   "metadata": {},
   "outputs": [
    {
     "data": {
      "text/plain": [
       "0        https://www.fifacm.com/player/158023/lionel-messi\n",
       "1        https://www.fifacm.com/player/20801/cristiano-...\n",
       "2        https://www.fifacm.com/player/188545/robert-le...\n",
       "3           https://www.fifacm.com/player/190871/neymar-jr\n",
       "4        https://www.fifacm.com/player/192985/kevin-de-...\n",
       "                               ...                        \n",
       "18957    https://www.fifacm.com/player/261818/ronan-gal...\n",
       "18958    https://www.fifacm.com/player/261932/chen-guol...\n",
       "18959       https://www.fifacm.com/player/261962/song-defu\n",
       "18960    https://www.fifacm.com/player/262759/stephen-b...\n",
       "18961    https://www.fifacm.com/player/262760/nathan-logue\n",
       "Name: ref_url, Length: 18962, dtype: object"
      ]
     },
     "execution_count": 137,
     "metadata": {},
     "output_type": "execute_result"
    }
   ],
   "source": [
    "DATA['ref_url']"
   ]
  },
  {
   "cell_type": "code",
   "execution_count": 138,
   "id": "0a2e172a",
   "metadata": {},
   "outputs": [],
   "source": [
    "df=pd.DataFrame(columns=['ref_url', 'pace', 'shooting', 'passing', 'dribbling', 'defending', 'physical'])"
   ]
  },
  {
   "cell_type": "code",
   "execution_count": 139,
   "id": "b6bf82bf",
   "metadata": {},
   "outputs": [],
   "source": [
    "rating1 = 'main-stat-rating-title text-center fifa-green'\n",
    "rating2 = 'main-stat-rating-title text-center fifa-light-green'\n",
    "rating3 = 'main-stat-rating-title text-center fifa-red'\n",
    "rating4 = 'main-stat-rating-title text-center fifa-yellow'"
   ]
  },
  {
   "cell_type": "code",
   "execution_count": 140,
   "id": "cab6fe2c",
   "metadata": {},
   "outputs": [
    {
     "name": "stderr",
     "output_type": "stream",
     "text": [
      "D:\\Project_FIFA\\FIFA\\lib\\site-packages\\ipykernel_launcher.py:3: DeprecationWarning: use options instead of chrome_options\n",
      "  This is separate from the ipykernel package so we can avoid doing imports until\n"
     ]
    }
   ],
   "source": [
    "options = webdriver.ChromeOptions()\n",
    "options.add_argument(\"headless\")\n",
    "driver = webdriver.Chrome(executable_path=r'C:/Users/KANTE/webdriver/chromedriver.exe', chrome_options=options)"
   ]
  },
  {
   "cell_type": "code",
   "execution_count": 146,
   "id": "bf0d63f0",
   "metadata": {},
   "outputs": [
    {
     "name": "stderr",
     "output_type": "stream",
     "text": [
      "100%|████████████████████████████████████████████████████████████████████████████| 8245/8245 [2:56:25<00:00,  1.28s/it]\n"
     ]
    }
   ],
   "source": [
    "i=0\n",
    "for URL in tqdm(DATA['ref_url'][10001:]):\n",
    "    driver.get(URL)\n",
    "    #time.sleep(2)\n",
    "    if i==0:\n",
    "        driver.find_element_by_xpath('/html/body/div[8]/div[2]/div[2]/div[2]/div[3]/input').click()\n",
    "    i+=1\n",
    "    page=driver.execute_script(\"return document.body.innerHTML;\")\n",
    "    soup = BeautifulSoup(page, \"html.parser\")\n",
    "    ratings=soup.findAll('div',{'class':[rating1,rating2,rating3,rating4]})\n",
    "    pl_ratings=[]\n",
    "    pl_ratings.append(URL)\n",
    "    for rating in ratings:\n",
    "        pl_ratings.append(int(rating.text))\n",
    "    df = df.append(pd.DataFrame([pl_ratings], columns=df.columns), ignore_index=True)"
   ]
  },
  {
   "cell_type": "code",
   "execution_count": null,
   "id": "3e0e5a23",
   "metadata": {},
   "outputs": [],
   "source": [
    "driver.close()"
   ]
  },
  {
   "cell_type": "code",
   "execution_count": 147,
   "id": "a4ac23d7",
   "metadata": {},
   "outputs": [
    {
     "data": {
      "text/plain": [
       "(10000, 7)"
      ]
     },
     "execution_count": 147,
     "metadata": {},
     "output_type": "execute_result"
    }
   ],
   "source": [
    "df.to_csv(\"FIFA_21_1001to.csv\",index=False, header=True)\n",
    "df.to_excel(\"FIFA_21_1001to.excel\",index=False, header=True)"
   ]
  },
  {
   "cell_type": "code",
   "execution_count": 148,
   "id": "284002c0",
   "metadata": {},
   "outputs": [
    {
     "data": {
      "text/html": [
       "<div>\n",
       "<style scoped>\n",
       "    .dataframe tbody tr th:only-of-type {\n",
       "        vertical-align: middle;\n",
       "    }\n",
       "\n",
       "    .dataframe tbody tr th {\n",
       "        vertical-align: top;\n",
       "    }\n",
       "\n",
       "    .dataframe thead th {\n",
       "        text-align: right;\n",
       "    }\n",
       "</style>\n",
       "<table border=\"1\" class=\"dataframe\">\n",
       "  <thead>\n",
       "    <tr style=\"text-align: right;\">\n",
       "      <th></th>\n",
       "      <th>ref_url</th>\n",
       "      <th>pace</th>\n",
       "      <th>shooting</th>\n",
       "      <th>passing</th>\n",
       "      <th>dribbling</th>\n",
       "      <th>defending</th>\n",
       "      <th>physical</th>\n",
       "    </tr>\n",
       "  </thead>\n",
       "  <tbody>\n",
       "    <tr>\n",
       "      <th>0</th>\n",
       "      <td>https://www.fifacm.com/player/158023/lionel-messi</td>\n",
       "      <td>85</td>\n",
       "      <td>92</td>\n",
       "      <td>91</td>\n",
       "      <td>95</td>\n",
       "      <td>38</td>\n",
       "      <td>65</td>\n",
       "    </tr>\n",
       "    <tr>\n",
       "      <th>1</th>\n",
       "      <td>https://www.fifacm.com/player/20801/cristiano-...</td>\n",
       "      <td>89</td>\n",
       "      <td>93</td>\n",
       "      <td>81</td>\n",
       "      <td>89</td>\n",
       "      <td>35</td>\n",
       "      <td>77</td>\n",
       "    </tr>\n",
       "    <tr>\n",
       "      <th>2</th>\n",
       "      <td>https://www.fifacm.com/player/188545/robert-le...</td>\n",
       "      <td>78</td>\n",
       "      <td>92</td>\n",
       "      <td>79</td>\n",
       "      <td>86</td>\n",
       "      <td>44</td>\n",
       "      <td>82</td>\n",
       "    </tr>\n",
       "    <tr>\n",
       "      <th>3</th>\n",
       "      <td>https://www.fifacm.com/player/190871/neymar-jr</td>\n",
       "      <td>91</td>\n",
       "      <td>85</td>\n",
       "      <td>86</td>\n",
       "      <td>94</td>\n",
       "      <td>36</td>\n",
       "      <td>58</td>\n",
       "    </tr>\n",
       "    <tr>\n",
       "      <th>4</th>\n",
       "      <td>https://www.fifacm.com/player/192985/kevin-de-...</td>\n",
       "      <td>77</td>\n",
       "      <td>86</td>\n",
       "      <td>93</td>\n",
       "      <td>88</td>\n",
       "      <td>64</td>\n",
       "      <td>78</td>\n",
       "    </tr>\n",
       "    <tr>\n",
       "      <th>...</th>\n",
       "      <td>...</td>\n",
       "      <td>...</td>\n",
       "      <td>...</td>\n",
       "      <td>...</td>\n",
       "      <td>...</td>\n",
       "      <td>...</td>\n",
       "      <td>...</td>\n",
       "    </tr>\n",
       "    <tr>\n",
       "      <th>9995</th>\n",
       "      <td>https://www.fifacm.com/player/205202/wojciech-...</td>\n",
       "      <td>52</td>\n",
       "      <td>36</td>\n",
       "      <td>54</td>\n",
       "      <td>51</td>\n",
       "      <td>64</td>\n",
       "      <td>70</td>\n",
       "    </tr>\n",
       "    <tr>\n",
       "      <th>9996</th>\n",
       "      <td>https://www.fifacm.com/player/205455/andre-weis</td>\n",
       "      <td>67</td>\n",
       "      <td>64</td>\n",
       "      <td>63</td>\n",
       "      <td>70</td>\n",
       "      <td>37</td>\n",
       "      <td>56</td>\n",
       "    </tr>\n",
       "    <tr>\n",
       "      <th>9997</th>\n",
       "      <td>https://www.fifacm.com/player/205533/alexander...</td>\n",
       "      <td>72</td>\n",
       "      <td>48</td>\n",
       "      <td>55</td>\n",
       "      <td>60</td>\n",
       "      <td>63</td>\n",
       "      <td>73</td>\n",
       "    </tr>\n",
       "    <tr>\n",
       "      <th>9998</th>\n",
       "      <td>https://www.fifacm.com/player/205535/troels-klove</td>\n",
       "      <td>76</td>\n",
       "      <td>62</td>\n",
       "      <td>62</td>\n",
       "      <td>69</td>\n",
       "      <td>56</td>\n",
       "      <td>63</td>\n",
       "    </tr>\n",
       "    <tr>\n",
       "      <th>9999</th>\n",
       "      <td>https://www.fifacm.com/player/205609/johanna-o...</td>\n",
       "      <td>61</td>\n",
       "      <td>47</td>\n",
       "      <td>55</td>\n",
       "      <td>62</td>\n",
       "      <td>63</td>\n",
       "      <td>68</td>\n",
       "    </tr>\n",
       "  </tbody>\n",
       "</table>\n",
       "<p>10000 rows × 7 columns</p>\n",
       "</div>"
      ],
      "text/plain": [
       "                                                ref_url pace shooting passing  \\\n",
       "0     https://www.fifacm.com/player/158023/lionel-messi   85       92      91   \n",
       "1     https://www.fifacm.com/player/20801/cristiano-...   89       93      81   \n",
       "2     https://www.fifacm.com/player/188545/robert-le...   78       92      79   \n",
       "3        https://www.fifacm.com/player/190871/neymar-jr   91       85      86   \n",
       "4     https://www.fifacm.com/player/192985/kevin-de-...   77       86      93   \n",
       "...                                                 ...  ...      ...     ...   \n",
       "9995  https://www.fifacm.com/player/205202/wojciech-...   52       36      54   \n",
       "9996    https://www.fifacm.com/player/205455/andre-weis   67       64      63   \n",
       "9997  https://www.fifacm.com/player/205533/alexander...   72       48      55   \n",
       "9998  https://www.fifacm.com/player/205535/troels-klove   76       62      62   \n",
       "9999  https://www.fifacm.com/player/205609/johanna-o...   61       47      55   \n",
       "\n",
       "     dribbling defending physical  \n",
       "0           95        38       65  \n",
       "1           89        35       77  \n",
       "2           86        44       82  \n",
       "3           94        36       58  \n",
       "4           88        64       78  \n",
       "...        ...       ...      ...  \n",
       "9995        51        64       70  \n",
       "9996        70        37       56  \n",
       "9997        60        63       73  \n",
       "9998        69        56       63  \n",
       "9999        62        63       68  \n",
       "\n",
       "[10000 rows x 7 columns]"
      ]
     },
     "execution_count": 148,
     "metadata": {},
     "output_type": "execute_result"
    }
   ],
   "source": [
    "df"
   ]
  },
  {
   "cell_type": "code",
   "execution_count": null,
   "id": "d479cc0d",
   "metadata": {},
   "outputs": [],
   "source": []
  }
 ],
 "metadata": {
  "kernelspec": {
   "display_name": "Python 3",
   "language": "python",
   "name": "python3"
  },
  "language_info": {
   "codemirror_mode": {
    "name": "ipython",
    "version": 3
   },
   "file_extension": ".py",
   "mimetype": "text/x-python",
   "name": "python",
   "nbconvert_exporter": "python",
   "pygments_lexer": "ipython3",
   "version": "3.6.13"
  }
 },
 "nbformat": 4,
 "nbformat_minor": 5
}
