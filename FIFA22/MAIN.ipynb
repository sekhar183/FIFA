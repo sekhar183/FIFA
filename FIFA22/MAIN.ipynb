{
 "cells": [
  {
   "cell_type": "code",
   "execution_count": 1,
   "id": "2dd42850",
   "metadata": {},
   "outputs": [],
   "source": [
    "from bs4 import BeautifulSoup\n",
    "import requests\n",
    "import pandas as pd\n",
    "from tqdm import tqdm\n",
    "import numpy as np\n",
    "import time\n",
    "import time\n",
    "from tqdm import tqdm\n",
    "from itertools import chain"
   ]
  },
  {
   "cell_type": "code",
   "execution_count": null,
   "id": "f14754b1",
   "metadata": {},
   "outputs": [],
   "source": [
    "DATA = pd.read_excel('../Cleaned_FIFA_players.xlsx', engine='openpyxl')"
   ]
  },
  {
   "cell_type": "code",
   "execution_count": null,
   "id": "3c768859",
   "metadata": {},
   "outputs": [],
   "source": [
    "DATA=DATA[DATA['position']!='GK']\n",
    "DATA['ref_url1']=DATA['ref_url'].apply(lambda x: 'https://www.fifplay.com/fifa-22/players'+str(x)[29:])"
   ]
  },
  {
   "cell_type": "markdown",
   "id": "71c1ba65",
   "metadata": {},
   "source": [
    "## Position & Info"
   ]
  },
  {
   "cell_type": "code",
   "execution_count": null,
   "id": "1c396d0e",
   "metadata": {},
   "outputs": [],
   "source": [
    "found_url = []\n",
    "not_found = []\n",
    "\n",
    "df_position=pd.DataFrame()\n",
    "\n",
    "for URL in tqdm(DATA['ref_url1']):\n",
    "    try:\n",
    "        info_data=[]\n",
    "        current_page=URL\n",
    "        page = requests.get(current_page)\n",
    "        soup = BeautifulSoup(page.content, \"html.parser\")\n",
    "        card = soup.find('h4', attrs={'class':['text-uppercase margin-left-2px font-lighter']})\n",
    "        \n",
    "        table = soup.find('table', attrs={'class':['table table-details bg-white small']})\n",
    "        table_body = table.find('tbody')\n",
    "        rows = table_body.find_all('tr')\n",
    "        for row in rows:\n",
    "            cols = row.find_all('td')\n",
    "            cols = [ele.text.strip() for ele in cols]\n",
    "            info_data.append([ele for ele in cols if ele])\n",
    "        info_data=list(chain.from_iterable(info_data))\n",
    "        info_data=info_data+[current_page] + [card.text]\n",
    "        \n",
    "        position_data = []\n",
    "        table = soup.findAll('table', attrs={'class':['table table-details bg-white small']})[1]\n",
    "        table_body = table.find('tbody')\n",
    "        rows = table_body.find_all('tr')\n",
    "        for row in rows:\n",
    "            cols = row.find_all('td')\n",
    "            cols = [ele.text.strip() for ele in cols]\n",
    "            position_data.append([ele for ele in cols if ele])\n",
    "        position_data=list(chain.from_iterable(position_data))\n",
    "        position_data=position_data+info_data\n",
    "        \n",
    "        pace_data=[]\n",
    "        table = soup.findAll('table', attrs={'class':['table small']})[0]\n",
    "        table_body = table.find('tbody')\n",
    "        rows = table_body.find_all('tr')\n",
    "        for row in rows:\n",
    "            cols = row.find_all('td')\n",
    "            cols = [ele.text.strip() for ele in cols]\n",
    "            pace_data.append([ele for ele in cols if ele])\n",
    "        pace_data=list(chain.from_iterable(pace_data))\n",
    "        pace_data=pace_data+position_data\n",
    "\n",
    "        dribbling_data = []\n",
    "        table = soup.findAll('table', attrs={'class':['table small']})[1]\n",
    "        table_body = table.find('tbody')\n",
    "        rows = table_body.find_all('tr')\n",
    "        for row in rows:\n",
    "            cols = row.find_all('td')\n",
    "            cols = [ele.text.strip() for ele in cols]\n",
    "            dribbling_data.append([ele for ele in cols if ele])\n",
    "        dribbling_data=list(chain.from_iterable(dribbling_data))\n",
    "        dribbling_data=dribbling_data+pace_data\n",
    "\n",
    "        shooting_data=[]\n",
    "        table = soup.findAll('table', attrs={'class':['table small']})[2]\n",
    "        table_body = table.find('tbody')\n",
    "        rows = table_body.find_all('tr')\n",
    "        for row in rows:\n",
    "            cols = row.find_all('td')\n",
    "            cols = [ele.text.strip() for ele in cols]\n",
    "            shooting_data.append([ele for ele in cols if ele])\n",
    "        shooting_data=list(chain.from_iterable(shooting_data))\n",
    "        shooting_data=shooting_data+dribbling_data\n",
    "\n",
    "        defending_data=[]\n",
    "        table = soup.findAll('table', attrs={'class':['table small']})[3]\n",
    "        table_body = table.find('tbody')\n",
    "        rows = table_body.find_all('tr')\n",
    "        for row in rows:\n",
    "            cols = row.find_all('td')\n",
    "            cols = [ele.text.strip() for ele in cols]\n",
    "            defending_data.append([ele for ele in cols if ele])\n",
    "        defending_data=list(chain.from_iterable(defending_data))\n",
    "        defending_data=defending_data+shooting_data\n",
    "\n",
    "        passing_data=[]\n",
    "        table = soup.findAll('table', attrs={'class':['table small']})[4]\n",
    "        table_body = table.find('tbody')\n",
    "        rows = table_body.find_all('tr')\n",
    "        for row in rows:\n",
    "            cols = row.find_all('td')\n",
    "            cols = [ele.text.strip() for ele in cols]\n",
    "            passing_data.append([ele for ele in cols if ele])\n",
    "        passing_data=list(chain.from_iterable(passing_data))\n",
    "        passing_data=passing_data+defending_data\n",
    "\n",
    "        physical_data=[]\n",
    "        table = soup.findAll('table', attrs={'class':['table small']})[5]\n",
    "        table_body = table.find('tbody')\n",
    "        rows = table_body.find_all('tr')\n",
    "        for row in rows:\n",
    "            cols = row.find_all('td')\n",
    "            cols = [ele.text.strip() for ele in cols]\n",
    "            physical_data.append([ele for ele in cols if ele])\n",
    "        physical_data=list(chain.from_iterable(physical_data))\n",
    "        physical_data=physical_data+passing_data\n",
    "        \n",
    "        df_position = df_position.append(pd.DataFrame([physical_data]), ignore_index=True)\n",
    "            \n",
    "    except:\n",
    "        print('nope')\n",
    "        not_found.append(URL)"
   ]
  },
  {
   "cell_type": "code",
   "execution_count": 63,
   "id": "21f778af",
   "metadata": {},
   "outputs": [
    {
     "ename": "NameError",
     "evalue": "name 'df_position' is not defined",
     "output_type": "error",
     "traceback": [
      "\u001b[1;31m---------------------------------------------------------------------------\u001b[0m",
      "\u001b[1;31mNameError\u001b[0m                                 Traceback (most recent call last)",
      "\u001b[1;32m<ipython-input-63-af8b3dda5bf6>\u001b[0m in \u001b[0;36m<module>\u001b[1;34m\u001b[0m\n\u001b[1;32m----> 1\u001b[1;33m \u001b[0mdf_position\u001b[0m\u001b[1;33m\u001b[0m\u001b[1;33m\u001b[0m\u001b[0m\n\u001b[0m",
      "\u001b[1;31mNameError\u001b[0m: name 'df_position' is not defined"
     ]
    }
   ],
   "source": [
    "df_position"
   ]
  },
  {
   "cell_type": "code",
   "execution_count": 82,
   "id": "af92d88e",
   "metadata": {},
   "outputs": [],
   "source": [
    "df1=pd.read_csv('all_attributes_10001toend.csv')\n",
    "df2=pd.read_csv('all_attributes_1to10000.csv')"
   ]
  },
  {
   "cell_type": "code",
   "execution_count": 83,
   "id": "eef1d8a6",
   "metadata": {},
   "outputs": [],
   "source": [
    "df=pd.concat([df1,df2])"
   ]
  },
  {
   "cell_type": "code",
   "execution_count": 84,
   "id": "66b923ea",
   "metadata": {},
   "outputs": [
    {
     "data": {
      "text/plain": [
       "Index(['0', '1', '2', '3', '4', '5', '6', '7', '8', '9', '10', '11', '12',\n",
       "       '13', '14', '15', '16', '17', '18', '19', '20', '21', '22', '23', '24',\n",
       "       '25', '26', '27', '28', '29', '30', '31', '32', '33', '34', '35', '36',\n",
       "       '37', '38', '39', '40', '41', '42'],\n",
       "      dtype='object')"
      ]
     },
     "execution_count": 84,
     "metadata": {},
     "output_type": "execute_result"
    }
   ],
   "source": [
    "df.columns"
   ]
  },
  {
   "cell_type": "code",
   "execution_count": 85,
   "id": "3a27f6aa",
   "metadata": {},
   "outputs": [],
   "source": [
    "ls=df.iloc[1]"
   ]
  },
  {
   "cell_type": "code",
   "execution_count": 86,
   "id": "efe46880",
   "metadata": {
    "scrolled": true
   },
   "outputs": [
    {
     "data": {
      "text/plain": [
       "['Jumping 0',\n",
       " 'Stamina 0',\n",
       " 'Strength 0',\n",
       " 'Aggression 0',\n",
       " 'Vision 0',\n",
       " 'Crossing 0',\n",
       " 'Free Kick 0',\n",
       " 'Short Passing 0',\n",
       " 'Long Passing 0',\n",
       " 'Curve 0',\n",
       " 'Interceptions 0',\n",
       " 'Heading 0',\n",
       " 'Marking 0',\n",
       " 'Standing Tackle 0',\n",
       " 'Sliding Tackle 0',\n",
       " 'Positioning 0',\n",
       " 'Finishing 0',\n",
       " 'Shot Power 0',\n",
       " 'Long Shot 0',\n",
       " 'Volleys 0',\n",
       " 'Penalties 0',\n",
       " 'Agility 0',\n",
       " 'Balance 0',\n",
       " 'Reactions 0',\n",
       " 'Ball Control 0',\n",
       " 'Dribbling 0',\n",
       " 'Acceleration 0',\n",
       " 'Sprint Speed 0',\n",
       " 'Position Centre Back (CB)',\n",
       " 'Preferred FootRight',\n",
       " 'Weak Foot4 / 5',\n",
       " 'Attacking Work Rate Med',\n",
       " 'Defensive Work Rate High',\n",
       " \"Joey O'Brien\",\n",
       " 'Age 34 (02-17-1986)',\n",
       " 'Overall Rating 64',\n",
       " 'Club  Shamrock Rovers',\n",
       " 'League  SSE Airtricity League',\n",
       " 'Nation  Ireland Republic',\n",
       " 'https://www.fifplay.com/fifa-22/players/167925/joey-o-brien',\n",
       " 'Rare bronze',\n",
       " nan,\n",
       " nan]"
      ]
     },
     "execution_count": 86,
     "metadata": {},
     "output_type": "execute_result"
    }
   ],
   "source": [
    "list(ls)"
   ]
  },
  {
   "cell_type": "markdown",
   "id": "e758a0ed",
   "metadata": {},
   "source": [
    "## PART 1"
   ]
  },
  {
   "cell_type": "code",
   "execution_count": 87,
   "id": "ff30f32b",
   "metadata": {},
   "outputs": [],
   "source": [
    "df_part1 = df[(df['41'].isna() | df['42'].isna()) & df['40'].isin(['Rare silver','Rare bronze', 'Rare gold'])]"
   ]
  },
  {
   "cell_type": "code",
   "execution_count": 88,
   "id": "14dcdc96",
   "metadata": {},
   "outputs": [
    {
     "name": "stdout",
     "output_type": "stream",
     "text": [
      "<class 'pandas.core.frame.DataFrame'>\n",
      "Int64Index: 3380 entries, 0 to 3073\n",
      "Data columns (total 43 columns):\n",
      " #   Column  Non-Null Count  Dtype \n",
      "---  ------  --------------  ----- \n",
      " 0   0       3380 non-null   object\n",
      " 1   1       3380 non-null   object\n",
      " 2   2       3380 non-null   object\n",
      " 3   3       3380 non-null   object\n",
      " 4   4       3380 non-null   object\n",
      " 5   5       3380 non-null   object\n",
      " 6   6       3380 non-null   object\n",
      " 7   7       3380 non-null   object\n",
      " 8   8       3380 non-null   object\n",
      " 9   9       3380 non-null   object\n",
      " 10  10      3380 non-null   object\n",
      " 11  11      3380 non-null   object\n",
      " 12  12      3380 non-null   object\n",
      " 13  13      3380 non-null   object\n",
      " 14  14      3380 non-null   object\n",
      " 15  15      3380 non-null   object\n",
      " 16  16      3380 non-null   object\n",
      " 17  17      3380 non-null   object\n",
      " 18  18      3380 non-null   object\n",
      " 19  19      3380 non-null   object\n",
      " 20  20      3380 non-null   object\n",
      " 21  21      3380 non-null   object\n",
      " 22  22      3380 non-null   object\n",
      " 23  23      3380 non-null   object\n",
      " 24  24      3380 non-null   object\n",
      " 25  25      3380 non-null   object\n",
      " 26  26      3380 non-null   object\n",
      " 27  27      3380 non-null   object\n",
      " 28  28      3380 non-null   object\n",
      " 29  29      3380 non-null   object\n",
      " 30  30      3380 non-null   object\n",
      " 31  31      3380 non-null   object\n",
      " 32  32      3380 non-null   object\n",
      " 33  33      3380 non-null   object\n",
      " 34  34      3380 non-null   object\n",
      " 35  35      3380 non-null   object\n",
      " 36  36      3380 non-null   object\n",
      " 37  37      3380 non-null   object\n",
      " 38  38      3380 non-null   object\n",
      " 39  39      3380 non-null   object\n",
      " 40  40      3380 non-null   object\n",
      " 41  41      0 non-null      object\n",
      " 42  42      0 non-null      object\n",
      "dtypes: object(43)\n",
      "memory usage: 1.1+ MB\n"
     ]
    }
   ],
   "source": [
    "df_part1.info()"
   ]
  },
  {
   "cell_type": "code",
   "execution_count": 89,
   "id": "fc5ae5e0",
   "metadata": {},
   "outputs": [],
   "source": [
    "df_part1.drop(columns=['41','42'],inplace=True)"
   ]
  },
  {
   "cell_type": "code",
   "execution_count": 90,
   "id": "a70a17dc",
   "metadata": {},
   "outputs": [],
   "source": [
    "df_part1.columns=['Jumping',\n",
    " 'Stamina',\n",
    " 'Strength',\n",
    " 'Aggression',\n",
    " 'Vision',\n",
    " 'Crossing',\n",
    " 'Free_Kick',\n",
    " 'Short_Passing',\n",
    " 'Long_Passing',\n",
    " 'Curve',\n",
    " 'Interceptions',\n",
    " 'Heading',\n",
    " 'Marking',\n",
    " 'Standing_Tackle',\n",
    " 'Sliding_Tackle',\n",
    " 'Positioning',\n",
    " 'Finishing',\n",
    " 'Shot_Power',\n",
    " 'Long_Shot',\n",
    " 'Volleys',\n",
    " 'Penalties',\n",
    " 'Agility',\n",
    " 'Balance',\n",
    " 'Reactions',\n",
    " 'Ball_Control',\n",
    " 'Dribbling',\n",
    " 'Acceleration',\n",
    " 'Sprint_Speed',\n",
    " 'Position',\n",
    " 'Preferred_Foot',\n",
    " 'Weak_Foot',\n",
    " 'Attacking_Work_Rate',\n",
    " 'Defensive_Work_Rate',\n",
    " 'Name',\n",
    " 'Age',\n",
    " 'Overall_Rating',\n",
    " 'Club',\n",
    " 'League',\n",
    " 'Nation',\n",
    " 'ref_url',\n",
    " 'Card_Type']"
   ]
  },
  {
   "cell_type": "code",
   "execution_count": 91,
   "id": "1ea12527",
   "metadata": {},
   "outputs": [
    {
     "name": "stderr",
     "output_type": "stream",
     "text": [
      "C:\\Users\\KANTE\\Desktop\\Project_FIFA\\fifa\\lib\\site-packages\\ipykernel_launcher.py:2: SettingWithCopyWarning: \n",
      "A value is trying to be set on a copy of a slice from a DataFrame.\n",
      "Try using .loc[row_indexer,col_indexer] = value instead\n",
      "\n",
      "See the caveats in the documentation: https://pandas.pydata.org/pandas-docs/stable/user_guide/indexing.html#returning-a-view-versus-a-copy\n",
      "  \n"
     ]
    }
   ],
   "source": [
    "for i in df_part1.columns:\n",
    "    df_part1[i] = df_part1[i].apply(lambda x: str(x).replace(i.replace(\"_\",\" \"),'').strip())"
   ]
  },
  {
   "cell_type": "code",
   "execution_count": 92,
   "id": "b1b97c1a",
   "metadata": {},
   "outputs": [],
   "source": [
    "df_part1.to_csv('part_1.csv',header=True, index=False)"
   ]
  },
  {
   "cell_type": "code",
   "execution_count": 93,
   "id": "9f73360a",
   "metadata": {},
   "outputs": [
    {
     "data": {
      "text/plain": [
       "(4030, 43)"
      ]
     },
     "execution_count": 93,
     "metadata": {},
     "output_type": "execute_result"
    }
   ],
   "source": [
    "df.shape"
   ]
  },
  {
   "cell_type": "code",
   "execution_count": 94,
   "id": "fab0641f",
   "metadata": {},
   "outputs": [
    {
     "data": {
      "text/plain": [
       "(3380, 41)"
      ]
     },
     "execution_count": 94,
     "metadata": {},
     "output_type": "execute_result"
    }
   ],
   "source": [
    "df_part1.shape"
   ]
  },
  {
   "cell_type": "markdown",
   "id": "12c3c1e7",
   "metadata": {},
   "source": [
    "## PART 2"
   ]
  },
  {
   "cell_type": "code",
   "execution_count": 95,
   "id": "3259ffba",
   "metadata": {},
   "outputs": [],
   "source": [
    "df_part2 = df[~((df['41'].isna() | df['42'].isna()) & df['40'].isin(['Rare silver','Rare bronze', 'Rare gold']))]"
   ]
  },
  {
   "cell_type": "code",
   "execution_count": 96,
   "id": "c2ed99c9",
   "metadata": {},
   "outputs": [
    {
     "name": "stdout",
     "output_type": "stream",
     "text": [
      "<class 'pandas.core.frame.DataFrame'>\n",
      "Int64Index: 650 entries, 111 to 2865\n",
      "Data columns (total 43 columns):\n",
      " #   Column  Non-Null Count  Dtype \n",
      "---  ------  --------------  ----- \n",
      " 0   0       650 non-null    object\n",
      " 1   1       650 non-null    object\n",
      " 2   2       650 non-null    object\n",
      " 3   3       650 non-null    object\n",
      " 4   4       650 non-null    object\n",
      " 5   5       650 non-null    object\n",
      " 6   6       650 non-null    object\n",
      " 7   7       650 non-null    object\n",
      " 8   8       650 non-null    object\n",
      " 9   9       650 non-null    object\n",
      " 10  10      650 non-null    object\n",
      " 11  11      650 non-null    object\n",
      " 12  12      650 non-null    object\n",
      " 13  13      650 non-null    object\n",
      " 14  14      650 non-null    object\n",
      " 15  15      650 non-null    object\n",
      " 16  16      650 non-null    object\n",
      " 17  17      650 non-null    object\n",
      " 18  18      650 non-null    object\n",
      " 19  19      650 non-null    object\n",
      " 20  20      650 non-null    object\n",
      " 21  21      650 non-null    object\n",
      " 22  22      650 non-null    object\n",
      " 23  23      650 non-null    object\n",
      " 24  24      650 non-null    object\n",
      " 25  25      650 non-null    object\n",
      " 26  26      650 non-null    object\n",
      " 27  27      650 non-null    object\n",
      " 28  28      650 non-null    object\n",
      " 29  29      650 non-null    object\n",
      " 30  30      650 non-null    object\n",
      " 31  31      650 non-null    object\n",
      " 32  32      650 non-null    object\n",
      " 33  33      650 non-null    object\n",
      " 34  34      650 non-null    object\n",
      " 35  35      650 non-null    object\n",
      " 36  36      650 non-null    object\n",
      " 37  37      650 non-null    object\n",
      " 38  38      650 non-null    object\n",
      " 39  39      650 non-null    object\n",
      " 40  40      650 non-null    object\n",
      " 41  41      650 non-null    object\n",
      " 42  42      549 non-null    object\n",
      "dtypes: object(43)\n",
      "memory usage: 223.4+ KB\n"
     ]
    }
   ],
   "source": [
    "df_part2.info()"
   ]
  },
  {
   "cell_type": "code",
   "execution_count": 97,
   "id": "82ef8a1d",
   "metadata": {},
   "outputs": [
    {
     "data": {
      "text/plain": [
       "(650, 43)"
      ]
     },
     "execution_count": 97,
     "metadata": {},
     "output_type": "execute_result"
    }
   ],
   "source": [
    "df_part2.shape"
   ]
  },
  {
   "cell_type": "code",
   "execution_count": 98,
   "id": "2effdf25",
   "metadata": {
    "scrolled": true
   },
   "outputs": [
    {
     "data": {
      "text/plain": [
       "Rare silver                                                           65\n",
       "Rare gold                                                             22\n",
       "Rare bronze                                                           14\n",
       "https://www.fifplay.com/fifa-22/players/20775/quaresma                 1\n",
       "https://www.fifplay.com/fifa-22/players/193301/alexandre-lacazette     1\n",
       "                                                                      ..\n",
       "https://www.fifplay.com/fifa-22/players/212218/aymeric-laporte         1\n",
       "https://www.fifplay.com/fifa-22/players/186942/ilkay-gundogan          1\n",
       "https://www.fifplay.com/fifa-22/players/212190/niklas-sule             1\n",
       "https://www.fifplay.com/fifa-22/players/208670/hakim-ziyech            1\n",
       "https://www.fifplay.com/fifa-22/players/153079/sergio-aguero           1\n",
       "Name: 41, Length: 552, dtype: int64"
      ]
     },
     "execution_count": 98,
     "metadata": {},
     "output_type": "execute_result"
    }
   ],
   "source": [
    "df_part2['41'].value_counts()"
   ]
  },
  {
   "cell_type": "markdown",
   "id": "bee93e39",
   "metadata": {},
   "source": [
    "### part 21"
   ]
  },
  {
   "cell_type": "code",
   "execution_count": 99,
   "id": "64c4290d",
   "metadata": {},
   "outputs": [],
   "source": [
    "df_part21=df_part2[df_part2['41'].isin(['Rare silver','Rare bronze', 'Rare gold'])]"
   ]
  },
  {
   "cell_type": "code",
   "execution_count": 100,
   "id": "4a65e4ab",
   "metadata": {},
   "outputs": [
    {
     "data": {
      "text/plain": [
       "0                                            Jumping 57\n",
       "1                                            Stamina 63\n",
       "2                                           Strength 51\n",
       "3                                         Aggression 42\n",
       "4                                             Vision 57\n",
       "5                                           Crossing 57\n",
       "6                                          Free Kick 43\n",
       "7                                      Short Passing 56\n",
       "8                                       Long Passing 46\n",
       "9                                              Curve 46\n",
       "10                                     Interceptions 24\n",
       "11                                           Heading 44\n",
       "12                                           Marking 30\n",
       "13                                   Standing Tackle 33\n",
       "14                                    Sliding Tackle 34\n",
       "15                                       Positioning 63\n",
       "16                                         Finishing 58\n",
       "17                                        Shot Power 58\n",
       "18                                         Long Shot 49\n",
       "19                                           Volleys 43\n",
       "20                                         Penalties 57\n",
       "21                                           Agility 79\n",
       "22                                           Balance 69\n",
       "23                                         Reactions 63\n",
       "24                                      Ball Control 65\n",
       "25                                         Dribbling 67\n",
       "26                                         Composure 60\n",
       "27                                      Acceleration 79\n",
       "28                                      Sprint Speed 76\n",
       "29                            Position Left Winger (LW)\n",
       "30                                  Preferred FootRight\n",
       "31                                       Weak Foot3 / 5\n",
       "32                             Attacking Work Rate High\n",
       "33                              Defensive Work Rate Med\n",
       "34                                        Abou Ouattara\n",
       "35                                  Age 20 (12-26-1999)\n",
       "36                                    Overall Rating 64\n",
       "37                              Club  Vitória Guimarães\n",
       "38                                     League  Liga NOS\n",
       "39                                 Nation  Burkina Faso\n",
       "40    https://www.fifplay.com/fifa-22/players/242405...\n",
       "41                                          Rare bronze\n",
       "42                                                  NaN\n",
       "Name: 229, dtype: object"
      ]
     },
     "execution_count": 100,
     "metadata": {},
     "output_type": "execute_result"
    }
   ],
   "source": [
    "df_part21.iloc[1]"
   ]
  },
  {
   "cell_type": "code",
   "execution_count": 101,
   "id": "7892b427",
   "metadata": {},
   "outputs": [],
   "source": [
    "df_part21.drop(columns=['42'],inplace=True)"
   ]
  },
  {
   "cell_type": "code",
   "execution_count": 102,
   "id": "42f7911c",
   "metadata": {},
   "outputs": [],
   "source": [
    "df_part21.columns=['Jumping',\n",
    " 'Stamina',\n",
    " 'Strength',\n",
    " 'Aggression',\n",
    " 'Vision',\n",
    " 'Crossing',\n",
    " 'Free_Kick',\n",
    " 'Short_Passing',\n",
    " 'Long_Passing',\n",
    " 'Curve',\n",
    " 'Interceptions',\n",
    " 'Heading',\n",
    " 'Marking',\n",
    " 'Standing_Tackle',\n",
    " 'Sliding_Tackle',\n",
    " 'Positioning',\n",
    " 'Finishing',\n",
    " 'Shot_Power',\n",
    " 'Long_Shot',\n",
    " 'Volleys',\n",
    " 'Penalties',\n",
    " 'Agility',\n",
    " 'Balance',\n",
    " 'Reactions',\n",
    " 'Ball_Control',\n",
    " 'Dribbling',\n",
    "'Composure',\n",
    " 'Acceleration',\n",
    " 'Sprint_Speed',\n",
    " 'Position',\n",
    " 'Preferred_Foot',\n",
    " 'Weak_Foot',\n",
    " 'Attacking_Work_Rate',\n",
    " 'Defensive_Work_Rate',\n",
    " 'Name',\n",
    " 'Age',\n",
    " 'Overall_Rating',\n",
    " 'Club',\n",
    " 'League',\n",
    " 'Nation',\n",
    " 'ref_url',\n",
    " 'Card_Type']"
   ]
  },
  {
   "cell_type": "code",
   "execution_count": 103,
   "id": "72ef8902",
   "metadata": {},
   "outputs": [
    {
     "name": "stderr",
     "output_type": "stream",
     "text": [
      "C:\\Users\\KANTE\\Desktop\\Project_FIFA\\fifa\\lib\\site-packages\\ipykernel_launcher.py:2: SettingWithCopyWarning: \n",
      "A value is trying to be set on a copy of a slice from a DataFrame.\n",
      "Try using .loc[row_indexer,col_indexer] = value instead\n",
      "\n",
      "See the caveats in the documentation: https://pandas.pydata.org/pandas-docs/stable/user_guide/indexing.html#returning-a-view-versus-a-copy\n",
      "  \n"
     ]
    }
   ],
   "source": [
    "for i in df_part21.columns:\n",
    "    df_part21[i] = df_part21[i].apply(lambda x: str(x).replace(i.replace(\"_\",\" \"),'').strip())"
   ]
  },
  {
   "cell_type": "code",
   "execution_count": 104,
   "id": "c5f93580",
   "metadata": {},
   "outputs": [],
   "source": [
    "df_part21.to_csv('part_21.csv',header=True, index=False)"
   ]
  },
  {
   "cell_type": "markdown",
   "id": "b1829d52",
   "metadata": {},
   "source": [
    "### part 22"
   ]
  },
  {
   "cell_type": "code",
   "execution_count": 105,
   "id": "7bb34b0d",
   "metadata": {},
   "outputs": [],
   "source": [
    "df_part22 = df_part2[~df_part2['41'].isin(['Rare silver','Rare bronze', 'Rare gold'])]"
   ]
  },
  {
   "cell_type": "code",
   "execution_count": 106,
   "id": "2670e6d4",
   "metadata": {},
   "outputs": [
    {
     "name": "stdout",
     "output_type": "stream",
     "text": [
      "Jumping 64\n",
      "Stamina 34\n",
      "Strength 43\n",
      "Aggression 69\n",
      "Vision 45\n",
      "Crossing 41\n",
      "Free Kick 29\n",
      "Short Passing 63\n",
      "Long Passing 53\n",
      "Curve 32\n",
      "Interceptions 66\n",
      "Heading 62\n",
      "Marking 67\n",
      "Standing Tackle 69\n",
      "Sliding Tackle 66\n",
      "Positioning 30\n",
      "Finishing 25\n",
      "Shot Power 41\n",
      "Long Shot 28\n",
      "Volleys 32\n",
      "Penalties 46\n",
      "Agility 58\n",
      "Balance 61\n",
      "Reactions 64\n",
      "Ball Control 52\n",
      "Dribbling 32\n",
      "Composure 49\n",
      "Acceleration 42\n",
      "Sprint Speed 38\n",
      "Position Centre Back (CB)\n",
      "Height / Weight 182 cm / 74 kg\n",
      "Preferred FootRight\n",
      "Weak Foot3 / 5\n",
      "Attacking Work Rate Med\n",
      "Defensive Work Rate Med\n",
      "Javier Jiménez García\n",
      "Age 23 (03-11-1997)\n",
      "Overall Rating 63\n",
      "Club  Albacete Bpie\n",
      "League  LaLiga 1 I 2 I 3\n",
      "Nation  Spain\n",
      "https://www.fifplay.com/fifa-22/players/237032/javi-jimenez\n",
      "Rare bronze\n"
     ]
    }
   ],
   "source": [
    "for i in df_part22.iloc[1]:\n",
    "    print(i)"
   ]
  },
  {
   "cell_type": "code",
   "execution_count": 133,
   "id": "cd25bb70",
   "metadata": {},
   "outputs": [],
   "source": [
    "\n",
    "df_part22.columns=['Jumping',\n",
    "'Stamina' ,\n",
    "'Strength' ,\n",
    "'Aggression' ,\n",
    "'Vision' ,\n",
    "'Crossing' ,\n",
    "'Free_Kick' ,\n",
    "'Short_Passing' ,\n",
    "'Long_Passing' ,\n",
    "'Curve' ,\n",
    "'Interceptions' ,\n",
    "'Heading' ,\n",
    "'Marking' ,\n",
    "'Standing_Tackle' ,\n",
    "'Sliding_Tackle' ,\n",
    "'Positioning' ,\n",
    "'Finishing' \n",
    ",'Shot_Power' \n",
    ",'Long_Shot' \n",
    ",'Volleys' \n",
    ",'Penalties'\n",
    ",'Agility' \n",
    ",'Balance' \n",
    ",'Reactions' \n",
    ",'Ball_Control'\n",
    ",'Dribbling' \n",
    ",'Composure' \n",
    ",'Acceleration' \n",
    ",'Sprint_Speed' \n",
    ",'Position'\n",
    ",'Height_Weight'\n",
    ",'Preferred_Foot'\n",
    ",'Weak_Foot'\n",
    ",'Attacking_Work_Rate'\n",
    ",'Defensive_Work_Rate'\n",
    ",'Name'\n",
    ",'Age'\n",
    ",'Overall_Rating'\n",
    ",'Club'\n",
    ",'League' \n",
    ",'Nation'\n",
    ",'ref_url'\n",
    ",'Card_Type']"
   ]
  },
  {
   "cell_type": "code",
   "execution_count": 134,
   "id": "d030ec63",
   "metadata": {},
   "outputs": [
    {
     "data": {
      "text/plain": [
       "Index(['Jumping', 'Stamina', 'Strength', 'Aggression', 'Vision', 'Crossing',\n",
       "       'Free_Kick', 'Short_Passing', 'Long_Passing', 'Curve', 'Interceptions',\n",
       "       'Heading', 'Marking', 'Standing_Tackle', 'Sliding_Tackle',\n",
       "       'Positioning', 'Finishing', 'Shot_Power', 'Long_Shot', 'Volleys',\n",
       "       'Penalties', 'Agility', 'Balance', 'Reactions', 'Ball_Control',\n",
       "       'Dribbling', 'Composure', 'Acceleration', 'Sprint_Speed', 'Position',\n",
       "       'Height_Weight', 'Preferred_Foot', 'Weak_Foot', 'Attacking_Work_Rate',\n",
       "       'Defensive_Work_Rate', 'Name', 'Age', 'Overall_Rating', 'Club',\n",
       "       'League', 'Nation', 'ref_url', 'Card_Type'],\n",
       "      dtype='object')"
      ]
     },
     "execution_count": 134,
     "metadata": {},
     "output_type": "execute_result"
    }
   ],
   "source": [
    "df_part22.columns"
   ]
  },
  {
   "cell_type": "code",
   "execution_count": 135,
   "id": "0af28c53",
   "metadata": {},
   "outputs": [
    {
     "name": "stderr",
     "output_type": "stream",
     "text": [
      "C:\\Users\\KANTE\\Desktop\\Project_FIFA\\fifa\\lib\\site-packages\\ipykernel_launcher.py:2: SettingWithCopyWarning: \n",
      "A value is trying to be set on a copy of a slice from a DataFrame.\n",
      "Try using .loc[row_indexer,col_indexer] = value instead\n",
      "\n",
      "See the caveats in the documentation: https://pandas.pydata.org/pandas-docs/stable/user_guide/indexing.html#returning-a-view-versus-a-copy\n",
      "  \n"
     ]
    }
   ],
   "source": [
    "for i in df_part22.columns:\n",
    "    df_part22[i] = df_part22[i].apply(lambda x: str(x).replace(i.replace(\"_\",\" \"),'').strip())"
   ]
  },
  {
   "cell_type": "code",
   "execution_count": 136,
   "id": "61301485",
   "metadata": {},
   "outputs": [
    {
     "data": {
      "text/plain": [
       "Jumping                                                               64\n",
       "Stamina                                                               34\n",
       "Strength                                                              43\n",
       "Aggression                                                            69\n",
       "Vision                                                                45\n",
       "Crossing                                                              41\n",
       "Free_Kick                                                             29\n",
       "Short_Passing                                                         63\n",
       "Long_Passing                                                          53\n",
       "Curve                                                                 32\n",
       "Interceptions                                                         66\n",
       "Heading                                                               62\n",
       "Marking                                                               67\n",
       "Standing_Tackle                                                       69\n",
       "Sliding_Tackle                                                        66\n",
       "Positioning                                                           30\n",
       "Finishing                                                             25\n",
       "Shot_Power                                                            41\n",
       "Long_Shot                                                             28\n",
       "Volleys                                                               32\n",
       "Penalties                                                             46\n",
       "Agility                                                               58\n",
       "Balance                                                               61\n",
       "Reactions                                                             64\n",
       "Ball_Control                                                          52\n",
       "Dribbling                                                             32\n",
       "Composure                                                             49\n",
       "Acceleration                                                          42\n",
       "Sprint_Speed                                                          38\n",
       "Position                                                Centre Back (CB)\n",
       "Height_Weight                             Height / Weight 182 cm / 74 kg\n",
       "Preferred_Foot                                                     Right\n",
       "Weak_Foot                                                          3 / 5\n",
       "Attacking_Work_Rate                                                  Med\n",
       "Defensive_Work_Rate                                                  Med\n",
       "Name                                               Javier Jiménez García\n",
       "Age                                                      23 (03-11-1997)\n",
       "Overall_Rating                                                        63\n",
       "Club                                                       Albacete Bpie\n",
       "League                                                  LaLiga 1 I 2 I 3\n",
       "Nation                                                             Spain\n",
       "ref_url                https://www.fifplay.com/fifa-22/players/237032...\n",
       "Card_Type                                                    Rare bronze\n",
       "Name: 1, dtype: object"
      ]
     },
     "execution_count": 136,
     "metadata": {},
     "output_type": "execute_result"
    }
   ],
   "source": [
    "df_part22.iloc[1]"
   ]
  },
  {
   "cell_type": "code",
   "execution_count": 137,
   "id": "41c92320",
   "metadata": {},
   "outputs": [],
   "source": [
    "df_part22.to_csv('part_22.csv', header=True, index=False)"
   ]
  },
  {
   "cell_type": "markdown",
   "id": "2b47d0eb",
   "metadata": {},
   "source": [
    "## Merging all three parts"
   ]
  },
  {
   "cell_type": "code",
   "execution_count": 138,
   "id": "913c5eb6",
   "metadata": {},
   "outputs": [
    {
     "data": {
      "text/plain": [
       "4030"
      ]
     },
     "execution_count": 138,
     "metadata": {},
     "output_type": "execute_result"
    }
   ],
   "source": [
    "df_part1.shape[0] + df_part21.shape[0] + df_part22.shape[0] "
   ]
  },
  {
   "cell_type": "code",
   "execution_count": 149,
   "id": "05da2b03",
   "metadata": {
    "scrolled": true
   },
   "outputs": [],
   "source": [
    "ALL_DATA = pd.concat([df_part1,df_part21,df_part22 ])"
   ]
  },
  {
   "cell_type": "code",
   "execution_count": 150,
   "id": "bbc55ad3",
   "metadata": {},
   "outputs": [],
   "source": [
    "ALL_DATA.to_csv('All_Player_Attributes.csv',index=False, header=True)"
   ]
  },
  {
   "cell_type": "code",
   "execution_count": 151,
   "id": "9a1dc8d0",
   "metadata": {},
   "outputs": [],
   "source": [
    "ALL_DATA.to_excel('All_Player_Attributes.xlsx',index=False, header=True)"
   ]
  },
  {
   "cell_type": "code",
   "execution_count": 152,
   "id": "9bc3cba9",
   "metadata": {},
   "outputs": [
    {
     "data": {
      "text/plain": [
       "Index(['Jumping', 'Stamina', 'Strength', 'Aggression', 'Vision', 'Crossing',\n",
       "       'Free_Kick', 'Short_Passing', 'Long_Passing', 'Curve', 'Interceptions',\n",
       "       'Heading', 'Marking', 'Standing_Tackle', 'Sliding_Tackle',\n",
       "       'Positioning', 'Finishing', 'Shot_Power', 'Long_Shot', 'Volleys',\n",
       "       'Penalties', 'Agility', 'Balance', 'Reactions', 'Ball_Control',\n",
       "       'Dribbling', 'Acceleration', 'Sprint_Speed', 'Position',\n",
       "       'Preferred_Foot', 'Weak_Foot', 'Attacking_Work_Rate',\n",
       "       'Defensive_Work_Rate', 'Name', 'Age', 'Overall_Rating', 'Club',\n",
       "       'League', 'Nation', 'ref_url', 'Card_Type', 'Composure',\n",
       "       'Height_Weight'],\n",
       "      dtype='object')"
      ]
     },
     "execution_count": 152,
     "metadata": {},
     "output_type": "execute_result"
    }
   ],
   "source": [
    "ALL_DATA.columns"
   ]
  },
  {
   "cell_type": "code",
   "execution_count": null,
   "id": "3d0ff4c2",
   "metadata": {},
   "outputs": [],
   "source": []
  }
 ],
 "metadata": {
  "kernelspec": {
   "display_name": "Python 3",
   "language": "python",
   "name": "python3"
  },
  "language_info": {
   "codemirror_mode": {
    "name": "ipython",
    "version": 3
   },
   "file_extension": ".py",
   "mimetype": "text/x-python",
   "name": "python",
   "nbconvert_exporter": "python",
   "pygments_lexer": "ipython3",
   "version": "3.6.13"
  }
 },
 "nbformat": 4,
 "nbformat_minor": 5
}
