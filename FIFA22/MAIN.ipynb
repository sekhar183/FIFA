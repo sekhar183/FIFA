{
 "cells": [
  {
   "cell_type": "code",
   "execution_count": 1,
   "id": "2dd42850",
   "metadata": {},
   "outputs": [],
   "source": [
    "from bs4 import BeautifulSoup\n",
    "import requests\n",
    "import pandas as pd\n",
    "from tqdm import tqdm\n",
    "import numpy as np\n",
    "import time\n",
    "import time\n",
    "from tqdm import tqdm\n",
    "from itertools import chain"
   ]
  },
  {
   "cell_type": "code",
   "execution_count": null,
   "id": "f14754b1",
   "metadata": {},
   "outputs": [],
   "source": [
    "DATA = pd.read_excel('../Cleaned_FIFA_players.xlsx', engine='openpyxl')"
   ]
  },
  {
   "cell_type": "code",
   "execution_count": null,
   "id": "3c768859",
   "metadata": {},
   "outputs": [],
   "source": [
    "DATA=DATA[DATA['position']!='GK']\n",
    "DATA['ref_url1']=DATA['ref_url'].apply(lambda x: 'https://www.fifplay.com/fifa-22/players'+str(x)[29:])"
   ]
  },
  {
   "cell_type": "markdown",
   "id": "71c1ba65",
   "metadata": {},
   "source": [
    "## Position & Info"
   ]
  },
  {
   "cell_type": "code",
   "execution_count": null,
   "id": "1c396d0e",
   "metadata": {},
   "outputs": [],
   "source": [
    "found_url = []\n",
    "not_found = []\n",
    "\n",
    "df_position=pd.DataFrame()\n",
    "\n",
    "for URL in tqdm(DATA['ref_url1']):\n",
    "    try:\n",
    "        info_data=[]\n",
    "        current_page=URL\n",
    "        page = requests.get(current_page)\n",
    "        soup = BeautifulSoup(page.content, \"html.parser\")\n",
    "        card = soup.find('h4', attrs={'class':['text-uppercase margin-left-2px font-lighter']})\n",
    "        \n",
    "        table = soup.find('table', attrs={'class':['table table-details bg-white small']})\n",
    "        table_body = table.find('tbody')\n",
    "        rows = table_body.find_all('tr')\n",
    "        for row in rows:\n",
    "            cols = row.find_all('td')\n",
    "            cols = [ele.text.strip() for ele in cols]\n",
    "            info_data.append([ele for ele in cols if ele])\n",
    "        info_data=list(chain.from_iterable(info_data))\n",
    "        info_data=info_data+[current_page] + [card.text]\n",
    "        \n",
    "        position_data = []\n",
    "        table = soup.findAll('table', attrs={'class':['table table-details bg-white small']})[1]\n",
    "        table_body = table.find('tbody')\n",
    "        rows = table_body.find_all('tr')\n",
    "        for row in rows:\n",
    "            cols = row.find_all('td')\n",
    "            cols = [ele.text.strip() for ele in cols]\n",
    "            position_data.append([ele for ele in cols if ele])\n",
    "        position_data=list(chain.from_iterable(position_data))\n",
    "        position_data=position_data+info_data\n",
    "        \n",
    "        pace_data=[]\n",
    "        table = soup.findAll('table', attrs={'class':['table small']})[0]\n",
    "        table_body = table.find('tbody')\n",
    "        rows = table_body.find_all('tr')\n",
    "        for row in rows:\n",
    "            cols = row.find_all('td')\n",
    "            cols = [ele.text.strip() for ele in cols]\n",
    "            pace_data.append([ele for ele in cols if ele])\n",
    "        pace_data=list(chain.from_iterable(pace_data))\n",
    "        pace_data=pace_data+position_data\n",
    "\n",
    "        dribbling_data = []\n",
    "        table = soup.findAll('table', attrs={'class':['table small']})[1]\n",
    "        table_body = table.find('tbody')\n",
    "        rows = table_body.find_all('tr')\n",
    "        for row in rows:\n",
    "            cols = row.find_all('td')\n",
    "            cols = [ele.text.strip() for ele in cols]\n",
    "            dribbling_data.append([ele for ele in cols if ele])\n",
    "        dribbling_data=list(chain.from_iterable(dribbling_data))\n",
    "        dribbling_data=dribbling_data+pace_data\n",
    "\n",
    "        shooting_data=[]\n",
    "        table = soup.findAll('table', attrs={'class':['table small']})[2]\n",
    "        table_body = table.find('tbody')\n",
    "        rows = table_body.find_all('tr')\n",
    "        for row in rows:\n",
    "            cols = row.find_all('td')\n",
    "            cols = [ele.text.strip() for ele in cols]\n",
    "            shooting_data.append([ele for ele in cols if ele])\n",
    "        shooting_data=list(chain.from_iterable(shooting_data))\n",
    "        shooting_data=shooting_data+dribbling_data\n",
    "\n",
    "        defending_data=[]\n",
    "        table = soup.findAll('table', attrs={'class':['table small']})[3]\n",
    "        table_body = table.find('tbody')\n",
    "        rows = table_body.find_all('tr')\n",
    "        for row in rows:\n",
    "            cols = row.find_all('td')\n",
    "            cols = [ele.text.strip() for ele in cols]\n",
    "            defending_data.append([ele for ele in cols if ele])\n",
    "        defending_data=list(chain.from_iterable(defending_data))\n",
    "        defending_data=defending_data+shooting_data\n",
    "\n",
    "        passing_data=[]\n",
    "        table = soup.findAll('table', attrs={'class':['table small']})[4]\n",
    "        table_body = table.find('tbody')\n",
    "        rows = table_body.find_all('tr')\n",
    "        for row in rows:\n",
    "            cols = row.find_all('td')\n",
    "            cols = [ele.text.strip() for ele in cols]\n",
    "            passing_data.append([ele for ele in cols if ele])\n",
    "        passing_data=list(chain.from_iterable(passing_data))\n",
    "        passing_data=passing_data+defending_data\n",
    "\n",
    "        physical_data=[]\n",
    "        table = soup.findAll('table', attrs={'class':['table small']})[5]\n",
    "        table_body = table.find('tbody')\n",
    "        rows = table_body.find_all('tr')\n",
    "        for row in rows:\n",
    "            cols = row.find_all('td')\n",
    "            cols = [ele.text.strip() for ele in cols]\n",
    "            physical_data.append([ele for ele in cols if ele])\n",
    "        physical_data=list(chain.from_iterable(physical_data))\n",
    "        physical_data=physical_data+passing_data\n",
    "        \n",
    "        df_position = df_position.append(pd.DataFrame([physical_data]), ignore_index=True)\n",
    "            \n",
    "    except:\n",
    "        print('nope')\n",
    "        not_found.append(URL)"
   ]
  },
  {
   "cell_type": "code",
   "execution_count": 35,
   "id": "21f778af",
   "metadata": {},
   "outputs": [
    {
     "data": {
      "text/html": [
       "<div>\n",
       "<style scoped>\n",
       "    .dataframe tbody tr th:only-of-type {\n",
       "        vertical-align: middle;\n",
       "    }\n",
       "\n",
       "    .dataframe tbody tr th {\n",
       "        vertical-align: top;\n",
       "    }\n",
       "\n",
       "    .dataframe thead th {\n",
       "        text-align: right;\n",
       "    }\n",
       "</style>\n",
       "<table border=\"1\" class=\"dataframe\">\n",
       "  <thead>\n",
       "    <tr style=\"text-align: right;\">\n",
       "      <th></th>\n",
       "      <th>0</th>\n",
       "      <th>1</th>\n",
       "      <th>2</th>\n",
       "      <th>3</th>\n",
       "      <th>4</th>\n",
       "      <th>5</th>\n",
       "      <th>6</th>\n",
       "      <th>7</th>\n",
       "      <th>8</th>\n",
       "      <th>9</th>\n",
       "      <th>...</th>\n",
       "      <th>33</th>\n",
       "      <th>34</th>\n",
       "      <th>35</th>\n",
       "      <th>36</th>\n",
       "      <th>37</th>\n",
       "      <th>38</th>\n",
       "      <th>39</th>\n",
       "      <th>40</th>\n",
       "      <th>41</th>\n",
       "      <th>42</th>\n",
       "    </tr>\n",
       "  </thead>\n",
       "  <tbody>\n",
       "    <tr>\n",
       "      <th>0</th>\n",
       "      <td>Jumping 68</td>\n",
       "      <td>Stamina 72</td>\n",
       "      <td>Strength 69</td>\n",
       "      <td>Aggression 44</td>\n",
       "      <td>Vision 95</td>\n",
       "      <td>Crossing 85</td>\n",
       "      <td>Free Kick 94</td>\n",
       "      <td>Short Passing 91</td>\n",
       "      <td>Long Passing 91</td>\n",
       "      <td>Curve 93</td>\n",
       "      <td>...</td>\n",
       "      <td>Attacking Work Rate Med</td>\n",
       "      <td>Defensive Work Rate Low</td>\n",
       "      <td>Lionel Messi</td>\n",
       "      <td>Age 33 (06-24-1987)</td>\n",
       "      <td>Overall Rating 93</td>\n",
       "      <td>Club  Paris Saint-Germain</td>\n",
       "      <td>League  Ligue 1 Conforama</td>\n",
       "      <td>Nation  Argentina</td>\n",
       "      <td>https://www.fifplay.com/fifa-22/players/158023...</td>\n",
       "      <td>Rare gold</td>\n",
       "    </tr>\n",
       "  </tbody>\n",
       "</table>\n",
       "<p>1 rows × 43 columns</p>\n",
       "</div>"
      ],
      "text/plain": [
       "           0           1            2              3          4            5   \\\n",
       "0  Jumping 68  Stamina 72  Strength 69  Aggression 44  Vision 95  Crossing 85   \n",
       "\n",
       "             6                 7                8         9   ...  \\\n",
       "0  Free Kick 94  Short Passing 91  Long Passing 91  Curve 93  ...   \n",
       "\n",
       "                        33                       34            35  \\\n",
       "0  Attacking Work Rate Med  Defensive Work Rate Low  Lionel Messi   \n",
       "\n",
       "                    36                 37                         38  \\\n",
       "0  Age 33 (06-24-1987)  Overall Rating 93  Club  Paris Saint-Germain   \n",
       "\n",
       "                          39                 40  \\\n",
       "0  League  Ligue 1 Conforama  Nation  Argentina   \n",
       "\n",
       "                                                  41         42  \n",
       "0  https://www.fifplay.com/fifa-22/players/158023...  Rare gold  \n",
       "\n",
       "[1 rows x 43 columns]"
      ]
     },
     "execution_count": 35,
     "metadata": {},
     "output_type": "execute_result"
    }
   ],
   "source": [
    "df_position"
   ]
  },
  {
   "cell_type": "code",
   "execution_count": 2,
   "id": "af92d88e",
   "metadata": {},
   "outputs": [],
   "source": [
    "df1=pd.read_csv('all_attributes_10001toend.csv')\n",
    "df2=pd.read_csv('all_attributes_1to10000.csv')"
   ]
  },
  {
   "cell_type": "code",
   "execution_count": 3,
   "id": "eef1d8a6",
   "metadata": {},
   "outputs": [],
   "source": [
    "df=pd.concat([df1,df2])"
   ]
  },
  {
   "cell_type": "code",
   "execution_count": 4,
   "id": "66b923ea",
   "metadata": {},
   "outputs": [
    {
     "data": {
      "text/plain": [
       "Index(['0', '1', '2', '3', '4', '5', '6', '7', '8', '9', '10', '11', '12',\n",
       "       '13', '14', '15', '16', '17', '18', '19', '20', '21', '22', '23', '24',\n",
       "       '25', '26', '27', '28', '29', '30', '31', '32', '33', '34', '35', '36',\n",
       "       '37', '38', '39', '40', '41', '42'],\n",
       "      dtype='object')"
      ]
     },
     "execution_count": 4,
     "metadata": {},
     "output_type": "execute_result"
    }
   ],
   "source": [
    "df.columns"
   ]
  },
  {
   "cell_type": "code",
   "execution_count": 11,
   "id": "3a27f6aa",
   "metadata": {},
   "outputs": [],
   "source": [
    "ls=df.iloc[1]"
   ]
  },
  {
   "cell_type": "code",
   "execution_count": 13,
   "id": "efe46880",
   "metadata": {},
   "outputs": [
    {
     "data": {
      "text/plain": [
       "['Jumping 0',\n",
       " 'Stamina 0',\n",
       " 'Strength 0',\n",
       " 'Aggression 0',\n",
       " 'Vision 0',\n",
       " 'Crossing 0',\n",
       " 'Free Kick 0',\n",
       " 'Short Passing 0',\n",
       " 'Long Passing 0',\n",
       " 'Curve 0',\n",
       " 'Interceptions 0',\n",
       " 'Heading 0',\n",
       " 'Marking 0',\n",
       " 'Standing Tackle 0',\n",
       " 'Sliding Tackle 0',\n",
       " 'Positioning 0',\n",
       " 'Finishing 0',\n",
       " 'Shot Power 0',\n",
       " 'Long Shot 0',\n",
       " 'Volleys 0',\n",
       " 'Penalties 0',\n",
       " 'Agility 0',\n",
       " 'Balance 0',\n",
       " 'Reactions 0',\n",
       " 'Ball Control 0',\n",
       " 'Dribbling 0',\n",
       " 'Acceleration 0',\n",
       " 'Sprint Speed 0',\n",
       " 'Position Centre Back (CB)',\n",
       " 'Preferred FootRight',\n",
       " 'Weak Foot4 / 5',\n",
       " 'Attacking Work Rate Med',\n",
       " 'Defensive Work Rate High',\n",
       " \"Joey O'Brien\",\n",
       " 'Age 34 (02-17-1986)',\n",
       " 'Overall Rating 64',\n",
       " 'Club  Shamrock Rovers',\n",
       " 'League  SSE Airtricity League',\n",
       " 'Nation  Ireland Republic',\n",
       " 'https://www.fifplay.com/fifa-22/players/167925/joey-o-brien',\n",
       " 'Rare bronze',\n",
       " nan,\n",
       " nan]"
      ]
     },
     "execution_count": 13,
     "metadata": {},
     "output_type": "execute_result"
    }
   ],
   "source": [
    "list(ls)"
   ]
  },
  {
   "cell_type": "code",
   "execution_count": 34,
   "id": "ff30f32b",
   "metadata": {},
   "outputs": [],
   "source": [
    "import numpy as np\n",
    "df_part1 = df[(df['41'].isna() | df['42'].isna()) & df['40'].isin(['Rare silver','Rare bronze', 'Rare gold'])]"
   ]
  },
  {
   "cell_type": "code",
   "execution_count": 36,
   "id": "14dcdc96",
   "metadata": {},
   "outputs": [
    {
     "name": "stdout",
     "output_type": "stream",
     "text": [
      "<class 'pandas.core.frame.DataFrame'>\n",
      "Int64Index: 3380 entries, 0 to 3073\n",
      "Data columns (total 43 columns):\n",
      " #   Column  Non-Null Count  Dtype \n",
      "---  ------  --------------  ----- \n",
      " 0   0       3380 non-null   object\n",
      " 1   1       3380 non-null   object\n",
      " 2   2       3380 non-null   object\n",
      " 3   3       3380 non-null   object\n",
      " 4   4       3380 non-null   object\n",
      " 5   5       3380 non-null   object\n",
      " 6   6       3380 non-null   object\n",
      " 7   7       3380 non-null   object\n",
      " 8   8       3380 non-null   object\n",
      " 9   9       3380 non-null   object\n",
      " 10  10      3380 non-null   object\n",
      " 11  11      3380 non-null   object\n",
      " 12  12      3380 non-null   object\n",
      " 13  13      3380 non-null   object\n",
      " 14  14      3380 non-null   object\n",
      " 15  15      3380 non-null   object\n",
      " 16  16      3380 non-null   object\n",
      " 17  17      3380 non-null   object\n",
      " 18  18      3380 non-null   object\n",
      " 19  19      3380 non-null   object\n",
      " 20  20      3380 non-null   object\n",
      " 21  21      3380 non-null   object\n",
      " 22  22      3380 non-null   object\n",
      " 23  23      3380 non-null   object\n",
      " 24  24      3380 non-null   object\n",
      " 25  25      3380 non-null   object\n",
      " 26  26      3380 non-null   object\n",
      " 27  27      3380 non-null   object\n",
      " 28  28      3380 non-null   object\n",
      " 29  29      3380 non-null   object\n",
      " 30  30      3380 non-null   object\n",
      " 31  31      3380 non-null   object\n",
      " 32  32      3380 non-null   object\n",
      " 33  33      3380 non-null   object\n",
      " 34  34      3380 non-null   object\n",
      " 35  35      3380 non-null   object\n",
      " 36  36      3380 non-null   object\n",
      " 37  37      3380 non-null   object\n",
      " 38  38      3380 non-null   object\n",
      " 39  39      3380 non-null   object\n",
      " 40  40      3380 non-null   object\n",
      " 41  41      0 non-null      object\n",
      " 42  42      0 non-null      object\n",
      "dtypes: object(43)\n",
      "memory usage: 1.1+ MB\n"
     ]
    }
   ],
   "source": [
    "df_part1.info()"
   ]
  },
  {
   "cell_type": "code",
   "execution_count": 37,
   "id": "fc5ae5e0",
   "metadata": {},
   "outputs": [
    {
     "name": "stderr",
     "output_type": "stream",
     "text": [
      "C:\\Users\\ravi9\\.conda\\envs\\sekhar\\lib\\site-packages\\pandas\\core\\frame.py:4901: SettingWithCopyWarning: \n",
      "A value is trying to be set on a copy of a slice from a DataFrame\n",
      "\n",
      "See the caveats in the documentation: https://pandas.pydata.org/pandas-docs/stable/user_guide/indexing.html#returning-a-view-versus-a-copy\n",
      "  return super().drop(\n"
     ]
    }
   ],
   "source": [
    "df_part1.drop(columns=['41','42'],inplace=True)"
   ]
  },
  {
   "cell_type": "code",
   "execution_count": 47,
   "id": "a70a17dc",
   "metadata": {},
   "outputs": [],
   "source": [
    "df_part1.columns=['Jumping',\n",
    " 'Stamina',\n",
    " 'Strength',\n",
    " 'Aggression',\n",
    " 'Vision',\n",
    " 'Crossing',\n",
    " 'Free_Kick',\n",
    " 'Short_Passing',\n",
    " 'Long_Passing',\n",
    " 'Curve',\n",
    " 'Interceptions',\n",
    " 'Heading',\n",
    " 'Marking',\n",
    " 'Standing_Tackle',\n",
    " 'Sliding_Tackle',\n",
    " 'Positioning',\n",
    " 'Finishing',\n",
    " 'Shot_Power',\n",
    " 'Long_Shot',\n",
    " 'Volleys',\n",
    " 'Penalties',\n",
    " 'Agility',\n",
    " 'Balance',\n",
    " 'Reactions',\n",
    " 'Ball_Control',\n",
    " 'Dribbling',\n",
    " 'Acceleration',\n",
    " 'Sprint_Speed',\n",
    " 'Position',\n",
    " 'Preferred_Foot',\n",
    " 'Weak_Foot',\n",
    " 'Attacking_Work_Rate',\n",
    " 'Defensive_Work_Rate',\n",
    " 'Name',\n",
    " 'Age',\n",
    " 'Overall_Rating',\n",
    " 'Club',\n",
    " 'League',\n",
    " 'Nation',\n",
    " 'ref_url',\n",
    " 'Card_Type']"
   ]
  },
  {
   "cell_type": "code",
   "execution_count": 50,
   "id": "1ea12527",
   "metadata": {},
   "outputs": [
    {
     "name": "stderr",
     "output_type": "stream",
     "text": [
      "C:\\Users\\ravi9\\AppData\\Local\\Temp/ipykernel_10056/3829615296.py:2: SettingWithCopyWarning: \n",
      "A value is trying to be set on a copy of a slice from a DataFrame.\n",
      "Try using .loc[row_indexer,col_indexer] = value instead\n",
      "\n",
      "See the caveats in the documentation: https://pandas.pydata.org/pandas-docs/stable/user_guide/indexing.html#returning-a-view-versus-a-copy\n",
      "  df_part1[i] = df_part1[i].apply(lambda x: str(x).replace(i.replace(\"_\",\" \"),'').strip())\n"
     ]
    }
   ],
   "source": [
    "for i in df_part1.columns:\n",
    "    df_part1[i] = df_part1[i].apply(lambda x: str(x).replace(i.replace(\"_\",\" \"),'').strip())"
   ]
  },
  {
   "cell_type": "code",
   "execution_count": 53,
   "id": "b1b97c1a",
   "metadata": {},
   "outputs": [],
   "source": [
    "df_part1.to_csv('part_1.csv',header=True, index=False)"
   ]
  },
  {
   "cell_type": "code",
   "execution_count": 55,
   "id": "9f73360a",
   "metadata": {},
   "outputs": [
    {
     "data": {
      "text/plain": [
       "(4030, 43)"
      ]
     },
     "execution_count": 55,
     "metadata": {},
     "output_type": "execute_result"
    }
   ],
   "source": [
    "df.shape"
   ]
  },
  {
   "cell_type": "code",
   "execution_count": 56,
   "id": "fab0641f",
   "metadata": {},
   "outputs": [
    {
     "data": {
      "text/plain": [
       "(3380, 41)"
      ]
     },
     "execution_count": 56,
     "metadata": {},
     "output_type": "execute_result"
    }
   ],
   "source": [
    "df_part1.shape"
   ]
  },
  {
   "cell_type": "code",
   "execution_count": 60,
   "id": "3259ffba",
   "metadata": {},
   "outputs": [],
   "source": [
    "df_part2 = df[~((df['41'].isna() | df['42'].isna()) & df['40'].isin(['Rare silver','Rare bronze', 'Rare gold']))]"
   ]
  },
  {
   "cell_type": "code",
   "execution_count": 61,
   "id": "c2ed99c9",
   "metadata": {},
   "outputs": [
    {
     "name": "stdout",
     "output_type": "stream",
     "text": [
      "<class 'pandas.core.frame.DataFrame'>\n",
      "Int64Index: 650 entries, 111 to 2865\n",
      "Data columns (total 43 columns):\n",
      " #   Column  Non-Null Count  Dtype \n",
      "---  ------  --------------  ----- \n",
      " 0   0       650 non-null    object\n",
      " 1   1       650 non-null    object\n",
      " 2   2       650 non-null    object\n",
      " 3   3       650 non-null    object\n",
      " 4   4       650 non-null    object\n",
      " 5   5       650 non-null    object\n",
      " 6   6       650 non-null    object\n",
      " 7   7       650 non-null    object\n",
      " 8   8       650 non-null    object\n",
      " 9   9       650 non-null    object\n",
      " 10  10      650 non-null    object\n",
      " 11  11      650 non-null    object\n",
      " 12  12      650 non-null    object\n",
      " 13  13      650 non-null    object\n",
      " 14  14      650 non-null    object\n",
      " 15  15      650 non-null    object\n",
      " 16  16      650 non-null    object\n",
      " 17  17      650 non-null    object\n",
      " 18  18      650 non-null    object\n",
      " 19  19      650 non-null    object\n",
      " 20  20      650 non-null    object\n",
      " 21  21      650 non-null    object\n",
      " 22  22      650 non-null    object\n",
      " 23  23      650 non-null    object\n",
      " 24  24      650 non-null    object\n",
      " 25  25      650 non-null    object\n",
      " 26  26      650 non-null    object\n",
      " 27  27      650 non-null    object\n",
      " 28  28      650 non-null    object\n",
      " 29  29      650 non-null    object\n",
      " 30  30      650 non-null    object\n",
      " 31  31      650 non-null    object\n",
      " 32  32      650 non-null    object\n",
      " 33  33      650 non-null    object\n",
      " 34  34      650 non-null    object\n",
      " 35  35      650 non-null    object\n",
      " 36  36      650 non-null    object\n",
      " 37  37      650 non-null    object\n",
      " 38  38      650 non-null    object\n",
      " 39  39      650 non-null    object\n",
      " 40  40      650 non-null    object\n",
      " 41  41      650 non-null    object\n",
      " 42  42      549 non-null    object\n",
      "dtypes: object(43)\n",
      "memory usage: 223.4+ KB\n"
     ]
    }
   ],
   "source": [
    "df_part2.info()"
   ]
  }
 ],
 "metadata": {
  "kernelspec": {
   "display_name": "Python 3 (ipykernel)",
   "language": "python",
   "name": "python3"
  },
  "language_info": {
   "codemirror_mode": {
    "name": "ipython",
    "version": 3
   },
   "file_extension": ".py",
   "mimetype": "text/x-python",
   "name": "python",
   "nbconvert_exporter": "python",
   "pygments_lexer": "ipython3",
   "version": "3.9.6"
  }
 },
 "nbformat": 4,
 "nbformat_minor": 5
}
