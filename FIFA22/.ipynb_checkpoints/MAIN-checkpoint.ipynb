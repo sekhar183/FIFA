{
 "cells": [
  {
   "cell_type": "code",
   "execution_count": 24,
   "id": "2dd42850",
   "metadata": {},
   "outputs": [],
   "source": [
    "from bs4 import BeautifulSoup\n",
    "import requests\n",
    "import pandas as pd\n",
    "from tqdm import tqdm\n",
    "import numpy as np\n",
    "import time\n",
    "import time\n",
    "from tqdm import tqdm\n",
    "from itertools import chain"
   ]
  },
  {
   "cell_type": "code",
   "execution_count": 25,
   "id": "f14754b1",
   "metadata": {},
   "outputs": [],
   "source": [
    "DATA = pd.read_excel('../Cleaned_FIFA_players.xlsx', engine='openpyxl')"
   ]
  },
  {
   "cell_type": "code",
   "execution_count": 26,
   "id": "3c768859",
   "metadata": {},
   "outputs": [],
   "source": [
    "DATA=DATA[DATA['position']!='GK']\n",
    "DATA['ref_url1']=DATA['ref_url'].apply(lambda x: 'https://www.fifplay.com/fifa-22/players'+str(x)[29:])"
   ]
  },
  {
   "cell_type": "markdown",
   "id": "71c1ba65",
   "metadata": {},
   "source": [
    "## Position & Info"
   ]
  },
  {
   "cell_type": "code",
   "execution_count": 27,
   "id": "e70d7b82",
   "metadata": {},
   "outputs": [
    {
     "data": {
      "text/plain": [
       "'https://www.fifplay.com/fifa-22/players/20801/cristiano-ronaldo'"
      ]
     },
     "execution_count": 27,
     "metadata": {},
     "output_type": "execute_result"
    }
   ],
   "source": [
    "https://www.fifplay.com/fifa-22/players/20801/cristiano-ronaldo"
   ]
  },
  {
   "cell_type": "code",
   "execution_count": 34,
   "id": "1c396d0e",
   "metadata": {},
   "outputs": [
    {
     "name": "stderr",
     "output_type": "stream",
     "text": [
      "100%|████████████████████████████████████████████████████████████████████████████████████| 1/1 [00:01<00:00,  1.51s/it]\n"
     ]
    }
   ],
   "source": [
    "found_url = []\n",
    "not_found = []\n",
    "\n",
    "df_position=pd.DataFrame()\n",
    "\n",
    "for URL in tqdm(DATA['ref_url1']):\n",
    "    try:\n",
    "        info_data=[]\n",
    "        current_page=URL\n",
    "        page = requests.get(current_page)\n",
    "        soup = BeautifulSoup(page.content, \"html.parser\")\n",
    "        card = soup.find('h4', attrs={'class':['text-uppercase margin-left-2px font-lighter']})\n",
    "        \n",
    "        table = soup.find('table', attrs={'class':['table table-details bg-white small']})\n",
    "        table_body = table.find('tbody')\n",
    "        rows = table_body.find_all('tr')\n",
    "        for row in rows:\n",
    "            cols = row.find_all('td')\n",
    "            cols = [ele.text.strip() for ele in cols]\n",
    "            info_data.append([ele for ele in cols if ele])\n",
    "        info_data=list(chain.from_iterable(info_data))\n",
    "        info_data=info_data+[current_page] + [card.text]\n",
    "        \n",
    "        position_data = []\n",
    "        table = soup.findAll('table', attrs={'class':['table table-details bg-white small']})[1]\n",
    "        table_body = table.find('tbody')\n",
    "        rows = table_body.find_all('tr')\n",
    "        for row in rows:\n",
    "            cols = row.find_all('td')\n",
    "            cols = [ele.text.strip() for ele in cols]\n",
    "            position_data.append([ele for ele in cols if ele])\n",
    "        position_data=list(chain.from_iterable(position_data))\n",
    "        position_data=position_data+info_data\n",
    "        \n",
    "        pace_data=[]\n",
    "        table = soup.findAll('table', attrs={'class':['table small']})[0]\n",
    "        table_body = table.find('tbody')\n",
    "        rows = table_body.find_all('tr')\n",
    "        for row in rows:\n",
    "            cols = row.find_all('td')\n",
    "            cols = [ele.text.strip() for ele in cols]\n",
    "            pace_data.append([ele for ele in cols if ele])\n",
    "        pace_data=list(chain.from_iterable(pace_data))\n",
    "        pace_data=pace_data+position_data\n",
    "\n",
    "        dribbling_data = []\n",
    "        table = soup.findAll('table', attrs={'class':['table small']})[1]\n",
    "        table_body = table.find('tbody')\n",
    "        rows = table_body.find_all('tr')\n",
    "        for row in rows:\n",
    "            cols = row.find_all('td')\n",
    "            cols = [ele.text.strip() for ele in cols]\n",
    "            dribbling_data.append([ele for ele in cols if ele])\n",
    "        dribbling_data=list(chain.from_iterable(dribbling_data))\n",
    "        dribbling_data=dribbling_data+pace_data\n",
    "\n",
    "        shooting_data=[]\n",
    "        table = soup.findAll('table', attrs={'class':['table small']})[2]\n",
    "        table_body = table.find('tbody')\n",
    "        rows = table_body.find_all('tr')\n",
    "        for row in rows:\n",
    "            cols = row.find_all('td')\n",
    "            cols = [ele.text.strip() for ele in cols]\n",
    "            shooting_data.append([ele for ele in cols if ele])\n",
    "        shooting_data=list(chain.from_iterable(shooting_data))\n",
    "        shooting_data=shooting_data+dribbling_data\n",
    "\n",
    "        defending_data=[]\n",
    "        table = soup.findAll('table', attrs={'class':['table small']})[3]\n",
    "        table_body = table.find('tbody')\n",
    "        rows = table_body.find_all('tr')\n",
    "        for row in rows:\n",
    "            cols = row.find_all('td')\n",
    "            cols = [ele.text.strip() for ele in cols]\n",
    "            defending_data.append([ele for ele in cols if ele])\n",
    "        defending_data=list(chain.from_iterable(defending_data))\n",
    "        defending_data=defending_data+shooting_data\n",
    "\n",
    "        passing_data=[]\n",
    "        table = soup.findAll('table', attrs={'class':['table small']})[4]\n",
    "        table_body = table.find('tbody')\n",
    "        rows = table_body.find_all('tr')\n",
    "        for row in rows:\n",
    "            cols = row.find_all('td')\n",
    "            cols = [ele.text.strip() for ele in cols]\n",
    "            passing_data.append([ele for ele in cols if ele])\n",
    "        passing_data=list(chain.from_iterable(passing_data))\n",
    "        passing_data=passing_data+defending_data\n",
    "\n",
    "        physical_data=[]\n",
    "        table = soup.findAll('table', attrs={'class':['table small']})[5]\n",
    "        table_body = table.find('tbody')\n",
    "        rows = table_body.find_all('tr')\n",
    "        for row in rows:\n",
    "            cols = row.find_all('td')\n",
    "            cols = [ele.text.strip() for ele in cols]\n",
    "            physical_data.append([ele for ele in cols if ele])\n",
    "        physical_data=list(chain.from_iterable(physical_data))\n",
    "        physical_data=physical_data+passing_data\n",
    "        \n",
    "        df_position = df_position.append(pd.DataFrame([physical_data]), ignore_index=True)\n",
    "            \n",
    "    except:\n",
    "        print('nope')\n",
    "        not_found.append(URL)"
   ]
  },
  {
   "cell_type": "code",
   "execution_count": 35,
   "id": "21f778af",
   "metadata": {},
   "outputs": [
    {
     "data": {
      "text/html": [
       "<div>\n",
       "<style scoped>\n",
       "    .dataframe tbody tr th:only-of-type {\n",
       "        vertical-align: middle;\n",
       "    }\n",
       "\n",
       "    .dataframe tbody tr th {\n",
       "        vertical-align: top;\n",
       "    }\n",
       "\n",
       "    .dataframe thead th {\n",
       "        text-align: right;\n",
       "    }\n",
       "</style>\n",
       "<table border=\"1\" class=\"dataframe\">\n",
       "  <thead>\n",
       "    <tr style=\"text-align: right;\">\n",
       "      <th></th>\n",
       "      <th>0</th>\n",
       "      <th>1</th>\n",
       "      <th>2</th>\n",
       "      <th>3</th>\n",
       "      <th>4</th>\n",
       "      <th>5</th>\n",
       "      <th>6</th>\n",
       "      <th>7</th>\n",
       "      <th>8</th>\n",
       "      <th>9</th>\n",
       "      <th>...</th>\n",
       "      <th>33</th>\n",
       "      <th>34</th>\n",
       "      <th>35</th>\n",
       "      <th>36</th>\n",
       "      <th>37</th>\n",
       "      <th>38</th>\n",
       "      <th>39</th>\n",
       "      <th>40</th>\n",
       "      <th>41</th>\n",
       "      <th>42</th>\n",
       "    </tr>\n",
       "  </thead>\n",
       "  <tbody>\n",
       "    <tr>\n",
       "      <th>0</th>\n",
       "      <td>Jumping 68</td>\n",
       "      <td>Stamina 72</td>\n",
       "      <td>Strength 69</td>\n",
       "      <td>Aggression 44</td>\n",
       "      <td>Vision 95</td>\n",
       "      <td>Crossing 85</td>\n",
       "      <td>Free Kick 94</td>\n",
       "      <td>Short Passing 91</td>\n",
       "      <td>Long Passing 91</td>\n",
       "      <td>Curve 93</td>\n",
       "      <td>...</td>\n",
       "      <td>Attacking Work Rate Med</td>\n",
       "      <td>Defensive Work Rate Low</td>\n",
       "      <td>Lionel Messi</td>\n",
       "      <td>Age 33 (06-24-1987)</td>\n",
       "      <td>Overall Rating 93</td>\n",
       "      <td>Club  Paris Saint-Germain</td>\n",
       "      <td>League  Ligue 1 Conforama</td>\n",
       "      <td>Nation  Argentina</td>\n",
       "      <td>https://www.fifplay.com/fifa-22/players/158023...</td>\n",
       "      <td>Rare gold</td>\n",
       "    </tr>\n",
       "  </tbody>\n",
       "</table>\n",
       "<p>1 rows × 43 columns</p>\n",
       "</div>"
      ],
      "text/plain": [
       "           0           1            2              3          4            5   \\\n",
       "0  Jumping 68  Stamina 72  Strength 69  Aggression 44  Vision 95  Crossing 85   \n",
       "\n",
       "             6                 7                8         9   ...  \\\n",
       "0  Free Kick 94  Short Passing 91  Long Passing 91  Curve 93  ...   \n",
       "\n",
       "                        33                       34            35  \\\n",
       "0  Attacking Work Rate Med  Defensive Work Rate Low  Lionel Messi   \n",
       "\n",
       "                    36                 37                         38  \\\n",
       "0  Age 33 (06-24-1987)  Overall Rating 93  Club  Paris Saint-Germain   \n",
       "\n",
       "                          39                 40  \\\n",
       "0  League  Ligue 1 Conforama  Nation  Argentina   \n",
       "\n",
       "                                                  41         42  \n",
       "0  https://www.fifplay.com/fifa-22/players/158023...  Rare gold  \n",
       "\n",
       "[1 rows x 43 columns]"
      ]
     },
     "execution_count": 35,
     "metadata": {},
     "output_type": "execute_result"
    }
   ],
   "source": [
    "df_position"
   ]
  },
  {
   "cell_type": "code",
   "execution_count": null,
   "id": "af92d88e",
   "metadata": {},
   "outputs": [],
   "source": []
  },
  {
   "cell_type": "code",
   "execution_count": null,
   "id": "eef1d8a6",
   "metadata": {},
   "outputs": [],
   "source": []
  },
  {
   "cell_type": "code",
   "execution_count": null,
   "id": "9b3dd066",
   "metadata": {},
   "outputs": [],
   "source": []
  },
  {
   "cell_type": "code",
   "execution_count": null,
   "id": "3a27f6aa",
   "metadata": {},
   "outputs": [],
   "source": []
  }
 ],
 "metadata": {
  "kernelspec": {
   "display_name": "Python 3",
   "language": "python",
   "name": "python3"
  },
  "language_info": {
   "codemirror_mode": {
    "name": "ipython",
    "version": 3
   },
   "file_extension": ".py",
   "mimetype": "text/x-python",
   "name": "python",
   "nbconvert_exporter": "python",
   "pygments_lexer": "ipython3",
   "version": "3.6.13"
  }
 },
 "nbformat": 4,
 "nbformat_minor": 5
}
